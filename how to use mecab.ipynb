{
 "cells": [
  {
   "cell_type": "code",
   "execution_count": 4,
   "metadata": {},
   "outputs": [],
   "source": [
    "import MeCab\n",
    "from konlpy.tag import Mecab\n",
    "import re\n",
    "mecab = Mecab()"
   ]
  },
  {
   "cell_type": "code",
   "execution_count": 10,
   "metadata": {},
   "outputs": [],
   "source": [
    "m = MeCab.Tagger('-d /usr/local/lib/mecab/dic/mecab-ko-dic')\n",
    "ret = m.parse(\"아버지가방에들어가신다\")"
   ]
  },
  {
   "cell_type": "code",
   "execution_count": 11,
   "metadata": {},
   "outputs": [
    {
     "data": {
      "text/plain": [
       "'아버지\\tNNG,*,F,아버지,*,*,*,*\\n가\\tJKS,*,F,가,*,*,*,*\\n방\\tNNG,장소,T,방,*,*,*,*\\n에\\tJKB,*,F,에,*,*,*,*\\n들어가\\tVV,*,F,들어가,*,*,*,*\\n신다\\tEP+EC,*,F,신다,Inflect,EP,EC,시/EP/*+ㄴ다/EC/*\\nEOS\\n'"
      ]
     },
     "execution_count": 11,
     "metadata": {},
     "output_type": "execute_result"
    }
   ],
   "source": [
    "ret"
   ]
  },
  {
   "cell_type": "code",
   "execution_count": 4,
   "metadata": {},
   "outputs": [
    {
     "data": {
      "text/plain": [
       "['@',\n",
       " '챗',\n",
       " '봇',\n",
       " '내일',\n",
       " '판매',\n",
       " '율',\n",
       " '예측',\n",
       " '해서',\n",
       " 'Anderson',\n",
       " '한테',\n",
       " '이메일',\n",
       " '로',\n",
       " '보내',\n",
       " '줘',\n",
       " '.']"
      ]
     },
     "execution_count": 4,
     "metadata": {},
     "output_type": "execute_result"
    }
   ],
   "source": [
    "mecab.morphs('@챗봇 내일 판매율 예측해서 Anderson한테 이메일로 보내줘.')"
   ]
  },
  {
   "cell_type": "code",
   "execution_count": 5,
   "metadata": {},
   "outputs": [
    {
     "data": {
      "text/plain": [
       "[('아버지', 'NNG'),\n",
       " ('가', 'JKS'),\n",
       " ('방', 'NNG'),\n",
       " ('에', 'JKB'),\n",
       " ('들어가', 'VV'),\n",
       " ('신다', 'EP+EC')]"
      ]
     },
     "execution_count": 5,
     "metadata": {},
     "output_type": "execute_result"
    }
   ],
   "source": [
    "mecab.pos('아버지가방에들어가신다')"
   ]
  },
  {
   "cell_type": "code",
   "execution_count": 6,
   "metadata": {},
   "outputs": [
    {
     "data": {
      "text/plain": [
       "['말']"
      ]
     },
     "execution_count": 6,
     "metadata": {},
     "output_type": "execute_result"
    }
   ],
   "source": [
    "mecab.nouns('할 말 없게 만드네')"
   ]
  },
  {
   "cell_type": "code",
   "execution_count": 12,
   "metadata": {},
   "outputs": [
    {
     "name": "stdout",
     "output_type": "stream",
     "text": [
      "[('쓰다', 'Verb'), ('톰', 'Noun'), ('홀랜드', 'Noun'), ('덕질', 'Noun'), ('별로', 'Noun'), ('하다', 'Verb'), ('않다', 'Verb'), ('같다', 'Adjective'), ('ㅋㅋ', 'KoreanParticle'), ('말', 'Noun'), ('하다', 'Verb'), ('꼬', 'Noun'), ('라지', 'Noun'), ('가', 'Josa')]\n"
     ]
    }
   ],
   "source": [
    "from konlpy.tag import Twitter\n",
    "twitter = Twitter()\n",
    "t = \"쓰니는 톰홀랜드 덕질 별로 하지도 않았을것같다 ㅋㅋ말하는 꼬라지가\"\n",
    "print(twitter.pos(t, norm=True, stem=True))"
   ]
  },
  {
   "cell_type": "code",
   "execution_count": 5,
   "metadata": {},
   "outputs": [
    {
     "name": "stdout",
     "output_type": "stream",
     "text": [
      "톰 홀랜드 덕질 별로  말 꼬 라지\n"
     ]
    }
   ],
   "source": [
    "pos_ = twitter.pos(t, norm=True, stem=True)\n",
    "\n",
    "sentence = \"\"\n",
    "for pos in pos_:\n",
    "    if pos[1] in ['Noun', 'KoreanParticle']:\n",
    "        sentence += pos[0]\n",
    "        sentence += \" \"\n",
    "sentence = re.sub('ㅋ', '', sentence)\n",
    "sentence = re.sub('ㅎ', '', sentence)\n",
    "sentence = re.sub('ㅜ', '', sentence)\n",
    "sentence = re.sub('ㅠ', '', sentence)\n",
    "sentence = re.sub('ㅇㅇ', '', sentence)\n",
    "sentence = sentence.strip()\n",
    "print(sentence)"
   ]
  },
  {
   "cell_type": "code",
   "execution_count": 13,
   "metadata": {},
   "outputs": [
    {
     "data": {
      "text/plain": [
       "[('쓰', 'VV'),\n",
       " ('니', 'EC'),\n",
       " ('는', 'JX'),\n",
       " ('톰홀랜드', 'NNP'),\n",
       " ('덕', 'NNG'),\n",
       " ('질', 'XSN'),\n",
       " ('별로', 'MAG'),\n",
       " ('하', 'VV'),\n",
       " ('지', 'EC'),\n",
       " ('도', 'JX'),\n",
       " ('않', 'VX'),\n",
       " ('았', 'EP'),\n",
       " ('을', 'ETM'),\n",
       " ('것', 'NNB'),\n",
       " ('같', 'VA'),\n",
       " ('다', 'EF'),\n",
       " ('ㅋㅋ', 'IC'),\n",
       " ('말', 'NNG'),\n",
       " ('하', 'XSV'),\n",
       " ('는', 'ETM'),\n",
       " ('꼬라지', 'NNG'),\n",
       " ('가', 'JKS')]"
      ]
     },
     "execution_count": 13,
     "metadata": {},
     "output_type": "execute_result"
    }
   ],
   "source": [
    "mecab.pos('쓰니는 톰홀랜드 덕질 별로 하지도 않았을것같다 ㅋㅋ말하는 꼬라지가')"
   ]
  },
  {
   "cell_type": "code",
   "execution_count": 15,
   "metadata": {},
   "outputs": [
    {
     "name": "stdout",
     "output_type": "stream",
     "text": [
      "덕말꼬라지\n"
     ]
    }
   ],
   "source": [
    "str_ = mecab.pos('쓰니는 톰홀랜드 덕질 별로 하지도 않았을것같다 ㅋㅋ말하는 꼬라지가')\n",
    "\n",
    "\n",
    "str_pos=\"\"\n",
    "#'XSV+E', 'XSA+E', 'vv+ec', 'sn' ,'MM', 'XR', 'MAG'\n",
    "tag = ['NNG','NNBC', 'NR','MM', 'XSV+EC', 'XSA+EF', 'UNKNOWN', 'IC']\n",
    "for s in range(len(str_)): #0번째는 단어가, 1번째는 품사가 결과로 나옴.\n",
    "    for i in tag:\n",
    "        if (i in str_[s][1] and str_[s][1] != 'XSN'):\n",
    "            str_pos += str_[s][0]\n",
    "        #elif (str_[s][1]=='VV' and str_[s+1][1]=='EC'):\n",
    "        #    str_pos += str_[s][0]\n",
    "        #    str_pos += str_[s+1][0]\n",
    "            #list_pos.append(s[0])\n",
    "        str_pos = re.sub('ㅋ', '', str_pos)\n",
    "        str_pos = re.sub('ㅎ', '', str_pos)\n",
    "        str_pos = re.sub('ㅜ', '', str_pos)\n",
    "        str_pos = re.sub('ㅠ', '', str_pos)\n",
    "        str_pos = re.sub('ㅇㅇㅇ', '', str_pos)\n",
    "print(str_pos)"
   ]
  },
  {
   "cell_type": "code",
   "execution_count": null,
   "metadata": {},
   "outputs": [],
   "source": []
  }
 ],
 "metadata": {
  "kernelspec": {
   "display_name": "Python 3",
   "language": "python",
   "name": "python3"
  },
  "language_info": {
   "codemirror_mode": {
    "name": "ipython",
    "version": 3
   },
   "file_extension": ".py",
   "mimetype": "text/x-python",
   "name": "python",
   "nbconvert_exporter": "python",
   "pygments_lexer": "ipython3",
   "version": "3.7.3"
  }
 },
 "nbformat": 4,
 "nbformat_minor": 2
}
