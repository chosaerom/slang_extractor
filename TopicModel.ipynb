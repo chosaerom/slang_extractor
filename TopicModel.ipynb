{
 "cells": [
  {
   "cell_type": "code",
   "execution_count": 1,
   "metadata": {},
   "outputs": [
    {
     "name": "stderr",
     "output_type": "stream",
     "text": [
      "/anaconda3/lib/python3.7/site-packages/konlpy/tag/_okt.py:16: UserWarning: \"Twitter\" has changed to \"Okt\" since KoNLPy v0.4.5.\n",
      "  warn('\"Twitter\" has changed to \"Okt\" since KoNLPy v0.4.5.')\n",
      "/anaconda3/lib/python3.7/site-packages/jpype/_core.py:210: UserWarning: \n",
      "-------------------------------------------------------------------------------\n",
      "Deprecated: convertStrings was not specified when starting the JVM. The default\n",
      "behavior in JPype will be False starting in JPype 0.8. The recommended setting\n",
      "for new code is convertStrings=False.  The legacy value of True was assumed for\n",
      "this session. If you are a user of an application that reported this warning,\n",
      "please file a ticket with the developer.\n",
      "-------------------------------------------------------------------------------\n",
      "\n",
      "  \"\"\")\n"
     ]
    }
   ],
   "source": [
    "import pandas as pd\n",
    "from konlpy.tag import Twitter\n",
    "\n",
    "twitter = Twitter()"
   ]
  },
  {
   "cell_type": "code",
   "execution_count": 2,
   "metadata": {},
   "outputs": [
    {
     "data": {
      "text/html": [
       "<div>\n",
       "<style scoped>\n",
       "    .dataframe tbody tr th:only-of-type {\n",
       "        vertical-align: middle;\n",
       "    }\n",
       "\n",
       "    .dataframe tbody tr th {\n",
       "        vertical-align: top;\n",
       "    }\n",
       "\n",
       "    .dataframe thead th {\n",
       "        text-align: right;\n",
       "    }\n",
       "</style>\n",
       "<table border=\"1\" class=\"dataframe\">\n",
       "  <thead>\n",
       "    <tr style=\"text-align: right;\">\n",
       "      <th></th>\n",
       "      <th>reple</th>\n",
       "      <th>label</th>\n",
       "    </tr>\n",
       "  </thead>\n",
       "  <tbody>\n",
       "    <tr>\n",
       "      <th>0</th>\n",
       "      <td>아니 나도 톰홀랜드 ㅈㄴ 좋아해서 연애설난거 슬프긴한데 왜 얼평하고 아깝다하고 안어...</td>\n",
       "      <td>1</td>\n",
       "    </tr>\n",
       "    <tr>\n",
       "      <th>1</th>\n",
       "      <td>눈이 낮구나래 씨발 ㅋㅋㅋㅋㅋㅋㅋㅋㅋ 말하는 뽄새 역겹네</td>\n",
       "      <td>1</td>\n",
       "    </tr>\n",
       "    <tr>\n",
       "      <th>2</th>\n",
       "      <td>쓰니는 톰홀랜드 덕질 별로 하지도 않았을것같다 ㅋㅋ말하는 꼬라지가</td>\n",
       "      <td>1</td>\n",
       "    </tr>\n",
       "    <tr>\n",
       "      <th>3</th>\n",
       "      <td>일단 함소원이 진화 ATM 으로 길들이려는거부터 진화 빡쳐서 도망갈 필임. 미친 한...</td>\n",
       "      <td>1</td>\n",
       "    </tr>\n",
       "    <tr>\n",
       "      <th>4</th>\n",
       "      <td>아니 솔직히 진화같은 애가 왜 저런 성괴 아줌마 만났는지 노이해...잘생기고 어리고...</td>\n",
       "      <td>1</td>\n",
       "    </tr>\n",
       "  </tbody>\n",
       "</table>\n",
       "</div>"
      ],
      "text/plain": [
       "                                               reple  label\n",
       "0  아니 나도 톰홀랜드 ㅈㄴ 좋아해서 연애설난거 슬프긴한데 왜 얼평하고 아깝다하고 안어...      1\n",
       "1                    눈이 낮구나래 씨발 ㅋㅋㅋㅋㅋㅋㅋㅋㅋ 말하는 뽄새 역겹네      1\n",
       "2               쓰니는 톰홀랜드 덕질 별로 하지도 않았을것같다 ㅋㅋ말하는 꼬라지가      1\n",
       "3  일단 함소원이 진화 ATM 으로 길들이려는거부터 진화 빡쳐서 도망갈 필임. 미친 한...      1\n",
       "4  아니 솔직히 진화같은 애가 왜 저런 성괴 아줌마 만났는지 노이해...잘생기고 어리고...      1"
      ]
     },
     "execution_count": 2,
     "metadata": {},
     "output_type": "execute_result"
    }
   ],
   "source": [
    "#300개의 텍스트를 수집한다. 명사만 추출하여 TDM을 만든다.\n",
    "dataset = pd.read_csv(\"/Users/SAEROM/reple.csv\")\n",
    "#첫 5행을 불러옴\n",
    "dataset.head() "
   ]
  },
  {
   "cell_type": "code",
   "execution_count": 3,
   "metadata": {},
   "outputs": [],
   "source": [
    "data_X = dataset[\"reple\"]"
   ]
  },
  {
   "cell_type": "code",
   "execution_count": 4,
   "metadata": {},
   "outputs": [],
   "source": [
    "#2글자 이상인 명사만 추출하는 함수를 만든다.\n",
    "def kor_noun(text):\n",
    "    words = []\n",
    "    for w in twitter.nouns(text):\n",
    "        if len(w) > 1:\n",
    "            words.append(w)\n",
    "    return words"
   ]
  },
  {
   "cell_type": "code",
   "execution_count": 5,
   "metadata": {},
   "outputs": [],
   "source": [
    "from sklearn.feature_extraction.text import CountVectorizer"
   ]
  },
  {
   "cell_type": "code",
   "execution_count": 6,
   "metadata": {},
   "outputs": [],
   "source": [
    "cv = CountVectorizer(tokenizer=kor_noun, max_features=1000)"
   ]
  },
  {
   "cell_type": "code",
   "execution_count": 7,
   "metadata": {},
   "outputs": [],
   "source": [
    "#댓글을 파일에서 읽어들일 때 자동으로 숫자로 변환되는 경우, 강제 문자열로 변환해준다.\n",
    "reples = dataset['reple'].astype(str)"
   ]
  },
  {
   "cell_type": "code",
   "execution_count": 8,
   "metadata": {},
   "outputs": [],
   "source": [
    "tdm = cv.fit_transform(reples)\n",
    "words = cv.get_feature_names()"
   ]
  },
  {
   "cell_type": "code",
   "execution_count": 9,
   "metadata": {},
   "outputs": [
    {
     "data": {
      "text/plain": [
       "[(64, '새끼'),\n",
       " (37, '남자'),\n",
       " (36, '진짜'),\n",
       " (32, '여자'),\n",
       " (27, '사람'),\n",
       " (21, '생각'),\n",
       " (17, '씨발'),\n",
       " (16, '한남'),\n",
       " (13, '정도'),\n",
       " (12, '그냥'),\n",
       " (11, '일본'),\n",
       " (11, '문제'),\n",
       " (10, '친구'),\n",
       " (10, '존나'),\n",
       " (10, '얼굴'),\n",
       " (10, '공부'),\n",
       " (9, '연애'),\n",
       " (8, '정말'),\n",
       " (8, '자기'),\n",
       " (8, '인생')]"
      ]
     },
     "execution_count": 9,
     "metadata": {},
     "output_type": "execute_result"
    }
   ],
   "source": [
    "sorted(zip(tdm.sum(axis=0).flat, words), reverse=True)[:20]"
   ]
  },
  {
   "cell_type": "code",
   "execution_count": 10,
   "metadata": {},
   "outputs": [],
   "source": [
    "#Topic Model 돌리기\n",
    "#gensim에서는 고유한 데이터 형식을 쓰므로 CountVectorizer로 만든 tdm을 변환해주어야 함.\n",
    "from gensim.matutils import Sparse2Corpus\n",
    "corpus = Sparse2Corpus(tdm.T)"
   ]
  },
  {
   "cell_type": "code",
   "execution_count": 74,
   "metadata": {},
   "outputs": [],
   "source": [
    "from gensim.models.ldamodel import LdaModel\n",
    "lda = LdaModel(corpus = corpus, id2word=dict(enumerate(words)),\n",
    "              num_topics=10, passes=10, iterations=50, random_state=1234)"
   ]
  },
  {
   "cell_type": "code",
   "execution_count": 52,
   "metadata": {},
   "outputs": [
    {
     "data": {
      "text/plain": [
       "[('생각', 0.018201942),\n",
       " ('정말', 0.015763307),\n",
       " ('한남', 0.013216359),\n",
       " ('여자', 0.013208857),\n",
       " ('사람', 0.013201531),\n",
       " ('남자', 0.010675383),\n",
       " ('원래', 0.010575335),\n",
       " ('이건', 0.008076573),\n",
       " ('시험', 0.008073284),\n",
       " ('사업', 0.008072711)]"
      ]
     },
     "execution_count": 52,
     "metadata": {},
     "output_type": "execute_result"
    }
   ],
   "source": [
    "lda.show_topic(0)"
   ]
  },
  {
   "cell_type": "code",
   "execution_count": 53,
   "metadata": {},
   "outputs": [
    {
     "data": {
      "text/plain": [
       "[('새끼', 0.028867133),\n",
       " ('씨발', 0.026855497),\n",
       " ('진짜', 0.022658825),\n",
       " ('병신', 0.011490192),\n",
       " ('여자', 0.011478924),\n",
       " ('보고', 0.009254047),\n",
       " ('틀니', 0.009252455),\n",
       " ('정도', 0.009252225),\n",
       " ('그냥', 0.007625043),\n",
       " ('인생', 0.0074234772)]"
      ]
     },
     "execution_count": 53,
     "metadata": {},
     "output_type": "execute_result"
    }
   ],
   "source": [
    "lda.show_topic(1)"
   ]
  },
  {
   "cell_type": "code",
   "execution_count": 54,
   "metadata": {},
   "outputs": [
    {
     "data": {
      "text/plain": [
       "[('새끼', 0.031182652),\n",
       " ('여자', 0.01815018),\n",
       " ('진짜', 0.013673887),\n",
       " ('남자', 0.011447567),\n",
       " ('타령', 0.009221148),\n",
       " ('그냥', 0.009220654),\n",
       " ('쪽바리', 0.009201536),\n",
       " ('선배', 0.0069961883),\n",
       " ('일베', 0.006995679),\n",
       " ('페미', 0.006995375)]"
      ]
     },
     "execution_count": 54,
     "metadata": {},
     "output_type": "execute_result"
    }
   ],
   "source": [
    "lda.show_topic(2)"
   ]
  },
  {
   "cell_type": "code",
   "execution_count": 55,
   "metadata": {},
   "outputs": [
    {
     "data": {
      "text/plain": [
       "[('생각', 0.026207447),\n",
       " ('얼굴', 0.011873876),\n",
       " ('사람', 0.011873124),\n",
       " ('홀랜드', 0.009008319),\n",
       " ('연애', 0.009006475),\n",
       " ('짝남', 0.009006275),\n",
       " ('한남', 0.008974375),\n",
       " ('하루', 0.006142728),\n",
       " ('친구', 0.0061425436),\n",
       " ('사진', 0.006142208)]"
      ]
     },
     "execution_count": 55,
     "metadata": {},
     "output_type": "execute_result"
    }
   ],
   "source": [
    "lda.show_topic(3)"
   ]
  },
  {
   "cell_type": "code",
   "execution_count": 56,
   "metadata": {},
   "outputs": [
    {
     "data": {
      "text/plain": [
       "[('사람', 0.038454946),\n",
       " ('남자', 0.01939092),\n",
       " ('세상', 0.009220876),\n",
       " ('한남', 0.0085648075),\n",
       " ('그거', 0.00856256),\n",
       " ('심리', 0.008559127),\n",
       " ('그냥', 0.008555501),\n",
       " ('문제', 0.0059619485),\n",
       " ('한국', 0.0058394354),\n",
       " ('막말', 0.0058366414)]"
      ]
     },
     "execution_count": 56,
     "metadata": {},
     "output_type": "execute_result"
    }
   ],
   "source": [
    "lda.show_topic(4)"
   ]
  },
  {
   "cell_type": "code",
   "execution_count": 57,
   "metadata": {},
   "outputs": [
    {
     "data": {
      "text/plain": [
       "[('새끼', 0.03604946),\n",
       " ('문제', 0.014085681),\n",
       " ('남자', 0.008627874),\n",
       " ('진짜', 0.008607688),\n",
       " ('이해', 0.0085932),\n",
       " ('종특', 0.008572514),\n",
       " ('저런', 0.005874987),\n",
       " ('머리', 0.0058742515),\n",
       " ('개새끼', 0.0058731968),\n",
       " ('나라', 0.005873141)]"
      ]
     },
     "execution_count": 57,
     "metadata": {},
     "output_type": "execute_result"
    }
   ],
   "source": [
    "lda.show_topic(5)"
   ]
  },
  {
   "cell_type": "code",
   "execution_count": 68,
   "metadata": {},
   "outputs": [
    {
     "data": {
      "text/plain": [
       "'ㄱㅊ아 애들아 일본 곧 멀지않아 육지가 가라앉아서 없어질거임 ㅋㅋㅋㅋㅋㅋㅋㅅㅂ...진짜 ㅈ같네 일본새끼들'"
      ]
     },
     "execution_count": 68,
     "metadata": {},
     "output_type": "execute_result"
    }
   ],
   "source": [
    "reples[80]"
   ]
  },
  {
   "cell_type": "code",
   "execution_count": 69,
   "metadata": {},
   "outputs": [],
   "source": [
    "#tdm에서 i번째 행을 gensim 형식으로 바꿔주는 함수를 만들자.\n",
    "def tdm2doc(tdm, i):\n",
    "    doc = []\n",
    "    for i,n in enumerate(tdm[i].toarray().flat):\n",
    "        if n>0:\n",
    "            doc.append((i,n))\n",
    "    return doc"
   ]
  },
  {
   "cell_type": "code",
   "execution_count": 70,
   "metadata": {},
   "outputs": [],
   "source": [
    "doc = tdm2doc(tdm, 80)"
   ]
  },
  {
   "cell_type": "code",
   "execution_count": 71,
   "metadata": {},
   "outputs": [
    {
     "data": {
      "text/plain": [
       "[(406, 1), (634, 1), (681, 1), (824, 1)]"
      ]
     },
     "execution_count": 71,
     "metadata": {},
     "output_type": "execute_result"
    }
   ],
   "source": [
    "#단어 번호와 단어의 사용횟수의 짝으로 표현됨\n",
    "doc"
   ]
  },
  {
   "cell_type": "code",
   "execution_count": 75,
   "metadata": {},
   "outputs": [
    {
     "data": {
      "text/plain": [
       "[(0, 0.020001352),\n",
       " (1, 0.8199786),\n",
       " (2, 0.02000203),\n",
       " (3, 0.020000704),\n",
       " (4, 0.020000735),\n",
       " (5, 0.020004032),\n",
       " (6, 0.020008547),\n",
       " (7, 0.020002939),\n",
       " (8, 0.020000331),\n",
       " (9, 0.02000076)]"
      ]
     },
     "execution_count": 75,
     "metadata": {},
     "output_type": "execute_result"
    }
   ],
   "source": [
    "#50번 문서의 주제비율 확인\n",
    "lda.get_document_topics(doc)"
   ]
  },
  {
   "cell_type": "code",
   "execution_count": 76,
   "metadata": {},
   "outputs": [
    {
     "name": "stdout",
     "output_type": "stream",
     "text": [
      "0 생각 진짜 사람 정말 이건 사업 한남 쓰레기 여자 자기\n",
      "1 진짜 새끼 일본 대학 정도 저런 누가 관심 원숭이 지금\n",
      "2 새끼 여자 보지 남자 선배 실존 사람 자꾸 처음 거리\n",
      "3 생각 피부 친구 연락 주변 참석 친절 문제 여자 진짜\n",
      "4 사람 남자 진화 느낌 새끼 아예 신경 한국 누가 막말\n",
      "5 새끼 문제 친구 진짜 개새끼 머리 나라 오히려 대화 불쌍\n",
      "6 새끼 진짜 남자 공부 존나 일본 씨발 여자 병신 나이\n",
      "7 새끼 남자 타령 홀랜드 얼평 짝남 외모 세상 공부 일베\n",
      "8 한남 여자 남자 사람 정말 시험 거지 종특 조카 가슴\n",
      "9 씨발 외모 그냥 마취 남자 얼굴 사람 여자 연애 성격\n"
     ]
    }
   ],
   "source": [
    "#주요 토픽을 한 번에 보려면..\n",
    "for t in range(10):\n",
    "    topic =[word for word,p in lda.show_topic(t)]\n",
    "    print(t, ' '.join(topic))"
   ]
  },
  {
   "cell_type": "code",
   "execution_count": 78,
   "metadata": {},
   "outputs": [
    {
     "name": "stdout",
     "output_type": "stream",
     "text": [
      "('새끼', 0.03646199)\n",
      "('남자', 0.014798865)\n",
      "('타령', 0.01119128)\n",
      "('홀랜드', 0.011191277)\n",
      "('얼평', 0.011191218)\n",
      "('짝남', 0.011191186)\n",
      "('외모', 0.007627576)\n",
      "('세상', 0.007613273)\n",
      "('공부', 0.0075811567)\n",
      "('일베', 0.007581137)\n"
     ]
    }
   ],
   "source": [
    "for i in lda.show_topic(7):\n",
    "    print(i)"
   ]
  },
  {
   "cell_type": "code",
   "execution_count": 90,
   "metadata": {},
   "outputs": [],
   "source": [
    "from bs4 import BeautifulSoup\n",
    "import requests"
   ]
  },
  {
   "cell_type": "code",
   "execution_count": 94,
   "metadata": {},
   "outputs": [],
   "source": [
    "def find_dic(topic): #lda.show_topic\n",
    "    li = []\n",
    "    for t in range(10):\n",
    "        topics = [word for word, p in lda.show_topic(t)]\n",
    "        \n",
    "        for topic in topics:\n",
    "            url = \"https://stdict.korean.go.kr/\" + \"api/search.do?certkey_no=887&key=DBB8DDBF7FF1B68CD5B631FDD8EB16FF\" + \"&type_search=search&q=\" + topic;\n",
    "            response = requests.get(url)\n",
    "            soup = BeautifulSoup(response.content, 'html.parser')\n",
    "\n",
    "            items = soup.find_all('item')\n",
    "            count = 0\n",
    "            \n",
    "            for item in items: count+= 1\n",
    "                \n",
    "            if(count==0):\n",
    "                li.append(topic)\n",
    "    return li\n",
    "   "
   ]
  },
  {
   "cell_type": "code",
   "execution_count": 95,
   "metadata": {},
   "outputs": [
    {
     "data": {
      "text/plain": [
       "['존나', '씨발', '홀랜드', '얼평', '짝남', '일베', '종특', '씨발']"
      ]
     },
     "execution_count": 95,
     "metadata": {},
     "output_type": "execute_result"
    }
   ],
   "source": [
    "find_dic(lda.show_topic)"
   ]
  },
  {
   "cell_type": "code",
   "execution_count": null,
   "metadata": {},
   "outputs": [],
   "source": []
  }
 ],
 "metadata": {
  "kernelspec": {
   "display_name": "Python 3",
   "language": "python",
   "name": "python3"
  },
  "language_info": {
   "codemirror_mode": {
    "name": "ipython",
    "version": 3
   },
   "file_extension": ".py",
   "mimetype": "text/x-python",
   "name": "python",
   "nbconvert_exporter": "python",
   "pygments_lexer": "ipython3",
   "version": "3.7.3"
  }
 },
 "nbformat": 4,
 "nbformat_minor": 2
}
